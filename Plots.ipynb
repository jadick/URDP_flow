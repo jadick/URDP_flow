{
 "cells": [
  {
   "cell_type": "code",
   "execution_count": 2,
   "metadata": {},
   "outputs": [
    {
     "name": "stdout",
     "output_type": "stream",
     "text": [
      "Tue Feb 27 13:53:59 2024       \n",
      "+-----------------------------------------------------------------------------+\n",
      "| NVIDIA-SMI 525.105.17   Driver Version: 525.105.17   CUDA Version: 12.0     |\n",
      "|-------------------------------+----------------------+----------------------+\n",
      "| GPU  Name        Persistence-M| Bus-Id        Disp.A | Volatile Uncorr. ECC |\n",
      "| Fan  Temp  Perf  Pwr:Usage/Cap|         Memory-Usage | GPU-Util  Compute M. |\n",
      "|                               |                      |               MIG M. |\n",
      "|===============================+======================+======================|\n",
      "|   0  Tesla T4            On   | 00000000:06:00.0 Off |                    0 |\n",
      "| N/A   38C    P8    16W /  70W |      2MiB / 15360MiB |      0%      Default |\n",
      "|                               |                      |                  N/A |\n",
      "+-------------------------------+----------------------+----------------------+\n",
      "                                                                               \n",
      "+-----------------------------------------------------------------------------+\n",
      "| Processes:                                                                  |\n",
      "|  GPU   GI   CI        PID   Type   Process name                  GPU Memory |\n",
      "|        ID   ID                                                   Usage      |\n",
      "|=============================================================================|\n",
      "|  No running processes found                                                 |\n",
      "+-----------------------------------------------------------------------------+\n"
     ]
    }
   ],
   "source": [
    "import argparse\n",
    "import os\n",
    "import numpy as np\n",
    "import time\n",
    "\n",
    "import torch\n",
    "import torch.nn as nn\n",
    "import torch.nn.functional as F\n",
    "from torch.utils.data import DataLoader\n",
    "\n",
    "import torch.nn.utils.spectral_norm as spectralnorm\n",
    "import torchvision\n",
    "import matplotlib.pyplot as plt\n",
    "\n",
    "from models import *\n",
    "from utils import *\n",
    "from helper import *\n",
    "\n",
    "!nvidia-smi"
   ]
  },
  {
   "cell_type": "code",
   "execution_count": 37,
   "metadata": {},
   "outputs": [],
   "source": [
    "def plot_img_series(x_1,x_2,x_1_hat,x_2_hat_joint, x_2_hat_new):\n",
    "    fig, axarr = plt.subplots(3,2)\n",
    "    fig.set_size_inches(10, 15)\n",
    "\n",
    "    axarr[0,1].axis('off')\n",
    "    axarr[0,0].axis('off')\n",
    "    axarr[1,0].axis('off')\n",
    "    axarr[1,1].axis('off')\n",
    "    axarr[2,0].axis('off')\n",
    "    axarr[2,1].axis('off')\n",
    "\n",
    "    axarr[0,0].set_title(r\"$X_1$\")\n",
    "    axarr[0,1].set_title(r\"$X_1$\")\n",
    "    axarr[1,0].set_title(r\"$\\hat{X}_1$\")\n",
    "    axarr[1,1].set_title(r\"$\\hat{X}_2 ~ PLF-JOINT$\")\n",
    "    axarr[2,0].set_title(r\"$\\hat{X}_1$\")\n",
    "    axarr[2,1].set_title(r\"$\\hat{X}_2 ~ PLF-NEW$\")\n",
    "\n",
    "    axarr[0,0].imshow(x_1.cpu().data.numpy(),cmap = 'gray')\n",
    "    axarr[0,1].imshow(x_2.cpu().data.numpy(),cmap = 'gray')\n",
    "    axarr[1,0].imshow(x_1_hat.squeeze().cpu().data.numpy(),cmap = 'gray')\n",
    "    axarr[1,1].imshow(x_2_hat_joint.squeeze().cpu().data.numpy(),cmap = 'gray')\n",
    "    axarr[1,0].imshow(x_1_hat.squeeze().cpu().data.numpy(),cmap = 'gray')\n",
    "    axarr[1,1].imshow(x_2_hat_joint.squeeze().cpu().data.numpy(),cmap = 'gray')\n",
    "    axarr[2,0].imshow(x_1_hat.squeeze().cpu().data.numpy(),cmap = 'gray')\n",
    "    axarr[2,1].imshow(x_2_hat_new.squeeze().cpu().data.numpy(),cmap = 'gray')"
   ]
  },
  {
   "cell_type": "code",
   "execution_count": 38,
   "metadata": {
    "scrolled": true
   },
   "outputs": [],
   "source": [
    "def compare_models(z_dim = 12 ,lambda_MSE = 1.0, lambda_PN = 0.0 ,lambda_P = 0.0):\n",
    "    # path to load trained models from\n",
    "    pre_path_PN = f'./saved_models/R1-eps|_dim_128|z_dim_{z_dim}|L_2|lambda_gp_10|bs_64|dpenalty_0.0|'\\\n",
    "                + f'lambdaP_0.0|lambdaPN_{lambda_PN*1e-3}|lambdaMSE_{lambda_MSE}'\n",
    "\n",
    "    pre_path_P = f'./saved_models/R1-eps|_dim_128|z_dim_{z_dim}|L_2|lambda_gp_10|bs_64|dpenalty_0.0' \\\n",
    "                + f'|lambdaP_{lambda_P*1e-3}|lambdaPM_0.0|lambdaMSE_1.0'\n",
    "\n",
    "\n",
    "    # load MMNIST\n",
    "    train_loader, test_loader = get_dataloader(data_root='./data/', seq_len=8, batch_size=64, num_digits=1)\n",
    "\n",
    "    # load fixed encoder for first frame\n",
    "    device = torch.device('cuda' if torch.cuda.is_available else cpu)\n",
    "    I_dim = 12 \n",
    "    I_L = 2\n",
    "    encoder = Encoder(dim=I_dim, nc=1, stochastic=True, quantize_latents=True, L=I_L).to(device).eval() \n",
    "    decoder = Decoder_Iframe(dim=I_dim).to(device).eval()\n",
    "    decoder_hat = Decoder_Iframe(dim=I_dim).to(device).eval()\n",
    "    encoder.load_state_dict(torch.load('./I3/I_frame_encoder_zdim_12_L_2.pth'))\n",
    "    decoder.load_state_dict(torch.load('./I3/I_frame_decoderMMSE_zdim_12_L_2.pth'))\n",
    "    decoder_hat.load_state_dict(torch.load('./I3/I_frame_decoder_zdim_12_L_2.pth'))\n",
    "\n",
    "    #load ssf modelS for second frame\n",
    "\n",
    "    # new metric\n",
    "    ssf_PN = ScaleSpaceFlow_R1eps(num_levels=1, dim=z_dim, stochastic=True, quantize_latents=True, L=2).to(device).eval()\n",
    "    ssf_PN.motion_encoder.load_state_dict(torch.load(pre_path_PN+'/m_enc.pth'))\n",
    "    ssf_PN.motion_decoder.load_state_dict(torch.load(pre_path_PN+'/m_dec.pth'))\n",
    "    ssf_PN.P_encoder.load_state_dict(torch.load(pre_path_PN+'/p_enc.pth'))\n",
    "    ssf_PN.res_encoder.load_state_dict(torch.load(pre_path_PN+'/r_enc.pth'))\n",
    "    ssf_PN.res_decoder.load_state_dict(torch.load(pre_path_PN+'/r_dec.pth'))\n",
    "\n",
    "    # joint metric\n",
    "    ssf_P = ScaleSpaceFlow_R1eps(num_levels=1, dim=z_dim, stochastic=True, quantize_latents=True, L=2).to(device).eval()\n",
    "    ssf_P.motion_encoder.load_state_dict(torch.load(pre_path_P+'/m_enc.pth'))\n",
    "    ssf_P.motion_decoder.load_state_dict(torch.load(pre_path_P+'/m_dec.pth'))\n",
    "    ssf_P.P_encoder.load_state_dict(torch.load(pre_path_P+'/p_enc.pth'))\n",
    "    ssf_P.res_encoder.load_state_dict(torch.load(pre_path_P+'/r_enc.pth'))\n",
    "    ssf_P.res_decoder.load_state_dict(torch.load(pre_path_P+'/r_dec.pth'))\n",
    "\n",
    "\n",
    "    batch_index = torch.randint(64,(1,)).item()\n",
    "\n",
    "    x = next(iter(test_loader))\n",
    "    x = x.permute(0, 4, 1, 2, 3).to(device).float()\n",
    "\n",
    "    # original frames\n",
    "    x_1 = x[batch_index,0,0,:,:]\n",
    "    x_2 = x[batch_index,0,1,:,:]\n",
    "\n",
    "    hx = encoder(x[:,:,0,...])[0]\n",
    "    x_ref = decoder(hx)\n",
    "    x_1_hat = decoder_hat(hx).detach()\n",
    "    x_2_hat_joint = ssf_P(x[:,:,1,...], x_ref, x_1_hat)\n",
    "    x_2_hat_new = ssf_PN(x[:,:,1,...], x_ref, x_1_hat)\n",
    "\n",
    "    plot_img_series(x_1, x_2,\n",
    "                    x_1_hat[batch_index,0:,:], \n",
    "                    x_2_hat_joint[batch_index,0:,:], \n",
    "                    x_2_hat_new[batch_index,0:,:])\n",
    "\n",
    "\n",
    "\n",
    "\n",
    "\n",
    "\n"
   ]
  },
  {
   "cell_type": "code",
   "execution_count": 39,
   "metadata": {},
   "outputs": [
    {
     "name": "stdout",
     "output_type": "stream",
     "text": [
      "Finished Loading MNIST!\n",
      "[-1.0, 1.0]\n",
      "[-1.0, 1.0]\n",
      "[-1.0, 1.0]\n"
     ]
    },
    {
     "data": {
      "image/png": "[encoded data removed]",
      "text/plain": [
       "<Figure size 720x1080 with 6 Axes>"
      ]
     },
     "metadata": {
      "needs_background": "light"
     },
     "output_type": "display_data"
    }
   ],
   "source": [
    "compare_models(z_dim = 4,lambda_MSE = 1.0, lambda_PN = 80 ,lambda_P = 80)"
   ]
  },
  {
   "cell_type": "code",
   "execution_count": null,
   "metadata": {},
   "outputs": [],
   "source": []
  },
  {
   "cell_type": "code",
   "execution_count": null,
   "metadata": {},
   "outputs": [],
   "source": []
  }
 ],
 "metadata": {
  "kernelspec": {
   "display_name": "Python 3",
   "language": "python",
   "name": "python3"
  },
  "language_info": {
   "codemirror_mode": {
    "name": "ipython",
    "version": 3
   },
   "file_extension": ".py",
   "mimetype": "text/x-python",
   "name": "python",
   "nbconvert_exporter": "python",
   "pygments_lexer": "ipython3",
   "version": "3.7.3"
  }
 },
 "nbformat": 4,
 "nbformat_minor": 2
}
