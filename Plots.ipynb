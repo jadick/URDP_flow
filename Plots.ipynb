{
 "cells": [
  {
   "cell_type": "code",
   "execution_count": 468,
   "metadata": {},
   "outputs": [
    {
     "name": "stdout",
     "output_type": "stream",
     "text": [
      "Mon Mar 25 15:32:55 2024       \r\n",
      "+-----------------------------------------------------------------------------+\r\n",
      "| NVIDIA-SMI 525.105.17   Driver Version: 525.105.17   CUDA Version: 12.0     |\r\n",
      "|-------------------------------+----------------------+----------------------+\r\n",
      "| GPU  Name        Persistence-M| Bus-Id        Disp.A | Volatile Uncorr. ECC |\r\n",
      "| Fan  Temp  Perf  Pwr:Usage/Cap|         Memory-Usage | GPU-Util  Compute M. |\r\n",
      "|                               |                      |               MIG M. |\r\n",
      "|===============================+======================+======================|\r\n",
      "|   0  Tesla T4            On   | 00000000:2F:00.0 Off |                    0 |\r\n",
      "| N/A   48C    P0    30W /  70W |   3043MiB / 15360MiB |      0%      Default |\r\n",
      "|                               |                      |                  N/A |\r\n",
      "+-------------------------------+----------------------+----------------------+\r\n",
      "                                                                               \r\n",
      "+-----------------------------------------------------------------------------+\r\n",
      "| Processes:                                                                  |\r\n",
      "|  GPU   GI   CI        PID   Type   Process name                  GPU Memory |\r\n",
      "|        ID   ID                                                   Usage      |\r\n",
      "|=============================================================================|\r\n",
      "|    0   N/A  N/A      8454      C   /pkgs/anaconda37/bin/python      3038MiB |\r\n",
      "+-----------------------------------------------------------------------------+\r\n"
     ]
    }
   ],
   "source": [
    "###### import argparse\n",
    "import os\n",
    "import numpy as np\n",
    "import time\n",
    "\n",
    "import torch\n",
    "import torch.nn as nn\n",
    "import torch.nn.functional as F\n",
    "from torch.utils.data import DataLoader\n",
    "import torchvision\n",
    "\n",
    "import torch.nn.utils.spectral_norm as spectralnorm\n",
    "import torchvision\n",
    "import matplotlib.pyplot as plt\n",
    "from PIL import Image\n",
    "from models import *\n",
    "from utils import *\n",
    "from helper import *\n",
    "\n",
    "device = torch.device('cuda' if torch.cuda.is_available else cpu)\n",
    "\n",
    "!nvidia-smi"
   ]
  },
  {
   "cell_type": "code",
   "execution_count": 2,
   "metadata": {},
   "outputs": [],
   "source": [
    "def plot_img_series(x_1,x_2,x_1_hat,x_2_hat_JD, x_2_hat_NEW,x_2_hat_FMD, bitrate ,letter):\n",
    "    fig, axarr = plt.subplots(4,2)\n",
    "    fig.set_size_inches(10, 15)\n",
    "\n",
    "    axarr[0,1].axis('off')\n",
    "    axarr[0,0].axis('off')\n",
    "    axarr[1,0].axis('off')\n",
    "    axarr[1,1].axis('off')\n",
    "    axarr[2,0].axis('off')\n",
    "    axarr[2,1].axis('off')\n",
    "    axarr[3,0].axis('off')\n",
    "    axarr[3,1].axis('off')\n",
    "\n",
    "\n",
    "    axarr[0,0].set_title(r\"$X_1$\")\n",
    "    axarr[0,1].set_title(r\"$X_2$\")\n",
    "    axarr[1,0].set_title(r\"$\\hat{X}_1$ - 12 bits\")\n",
    "    axarr[1,1].set_title(r\"$\\hat{X}_2 ~ PLF-JOINT$ - \" + f'{bitrate} bits')\n",
    "    axarr[2,0].set_title(r\"$\\hat{X}_1$  - 12 bits\")\n",
    "    axarr[2,1].set_title(r\"$\\hat{X}_2 ~ PLF-FMD$ - \"  + f'{bitrate} bits')\n",
    "    axarr[3,0].set_title(r\"$\\hat{X}_1$  - 12 bits\")\n",
    "    axarr[3,1].set_title(r\"$\\hat{X}_2 ~ PLF-NEW$ - \"  + f'{bitrate} bits')\n",
    "\n",
    "    axarr[0,0].imshow(x_1.cpu().data.numpy(),cmap = 'gray')\n",
    "    axarr[0,1].imshow(x_2.cpu().data.numpy(),cmap = 'gray')\n",
    "    axarr[1,0].imshow(x_1_hat.squeeze().cpu().data.numpy(),cmap = 'gray')\n",
    "    axarr[1,1].imshow(x_2_hat_JD.squeeze().cpu().data.numpy(),cmap = 'gray')\n",
    "    axarr[2,0].imshow(x_1_hat.squeeze().cpu().data.numpy(),cmap = 'gray')\n",
    "    axarr[2,1].imshow(x_2_hat_FMD.squeeze().cpu().data.numpy(),cmap = 'gray')\n",
    "    axarr[3,0].imshow(x_1_hat.squeeze().cpu().data.numpy(),cmap = 'gray')\n",
    "    axarr[3,1].imshow(x_2_hat_NEW.squeeze().cpu().data.numpy(),cmap = 'gray')\n",
    "    '''\n",
    "    plt.imsave(f\"./reconstructions/x1{letter}.png\", x_1.cpu().data.numpy(),cmap = 'gray')\n",
    "    plt.imsave(f\"./reconstructions/x2{letter}.png\", x_2.cpu().data.numpy(),cmap = 'gray')\n",
    "    plt.imsave(f\"./reconstructions/x1{letter}_hat_12.png\",x_1_hat.squeeze().cpu().data.numpy(),cmap = 'gray')\n",
    "    plt.imsave(f\"./reconstructions/x2{letter}_JD_{bitrate}.png\", x_2_hat_JD.squeeze().cpu().data.numpy(),cmap = 'gray')\n",
    "    plt.imsave(f\"./reconstructions/x2{letter}_FMD_{bitrate}.png\", x_2_hat_FMD.squeeze().cpu().data.numpy(),cmap = 'gray')\n",
    "    plt.imsave(f\"./reconstructions/x2{letter}_NEW_{bitrate}.png\", x_2_hat_NEW.squeeze().cpu().data.numpy(),cmap = 'gray')\n",
    "    '''"
   ]
  },
  {
   "cell_type": "code",
   "execution_count": 3,
   "metadata": {
    "scrolled": true
   },
   "outputs": [
    {
     "name": "stdout",
     "output_type": "stream",
     "text": [
      "Finished Loading MNIST!\n",
      "[-1.0, 1.0]\n",
      "[-1.0, 1.0]\n",
      "[-1.0, 1.0]\n",
      "[-1.0, 1.0]\n",
      "torch.Size([64, 1, 64, 64])\n",
      "torch.Size([64, 1, 64, 64])\n"
     ]
    },
    {
     "data": {
      "image/png": "[encoded data removed]",
      "text/plain": [
       "<Figure size 720x1080 with 8 Axes>"
      ]
     },
     "metadata": {
      "needs_background": "light"
     },
     "output_type": "display_data"
    }
   ],
   "source": [
    "def compare_models(z_dim =1,lambda_ = 0.0 , bitrate = 12, letter = 'a'):\n",
    "    # path to load trained models from\n",
    "    pre_path_NEW = f'./saved_models/R1-eps/{bitrate}/R1-eps|dim_128|z_dim_{z_dim}|L_2|'\\\n",
    "                + f'lambdaJD_0.0|lambdaFMD_0.0|lambdaNEW_{lambda_}|lambdaMSE_1.0'\n",
    "    \n",
    "\n",
    "    pre_path_JD = f'./saved_models/R1-eps/{bitrate}/R1-eps|dim_128|z_dim_{z_dim}|L_2|'\\\n",
    "                + f'lambdaJD_{lambda_}|lambdaFMD_0.0|lambdaNEW_0.0|lambdaMSE_1.0'\n",
    "    \n",
    "    pre_path_FMD = f'./saved_models/R1-eps/{bitrate}/R1-eps|dim_128|z_dim_{z_dim}|L_2|'\\\n",
    "                + f'lambdaJD_0.0|lambdaFMD_{lambda_}|lambdaNEW_0.0|lambdaMSE_1.0'\n",
    "\n",
    "\n",
    "    # load MMNIST\n",
    "    train_loader, test_loader = get_dataloader(data_root='./data/', seq_len=8, batch_size=64, num_digits=1)\n",
    "\n",
    "    # load fixed encoder for first frame\n",
    "    device = torch.device('cuda' if torch.cuda.is_available else cpu)\n",
    "    I_dim = 12 \n",
    "    I_L = 2\n",
    "    encoder = Encoder(dim=I_dim, nc=1, stochastic=True, quantize_latents=True, L=I_L).to(device).eval() \n",
    "    decoder = Decoder_Iframe(dim=I_dim).to(device).eval()\n",
    "    decoder_hat = Decoder_Iframe(dim=I_dim).to(device).eval()\n",
    "    encoder.load_state_dict(torch.load('./I3/I_frame_encoder_zdim_12_L_2.pth'))\n",
    "    decoder.load_state_dict(torch.load('./I3/I_frame_decoderMMSE_zdim_12_L_2.pth'))\n",
    "    decoder_hat.load_state_dict(torch.load('./I3/I_frame_decoder_zdim_12_L_2.pth'))\n",
    "\n",
    "    #load ssf models for second frame\n",
    "\n",
    "    # NEW\n",
    "    ssf_NEW = ScaleSpaceFlow_R1eps(num_levels=1, dim=z_dim, stochastic=True, quantize_latents=True, L=2).to(device).eval()\n",
    "    ssf_NEW.motion_encoder.load_state_dict(torch.load(pre_path_NEW+'/m_enc.pth'))\n",
    "    ssf_NEW.motion_decoder.load_state_dict(torch.load(pre_path_NEW+'/m_dec.pth'))\n",
    "    ssf_NEW.P_encoder.load_state_dict(torch.load(pre_path_NEW+'/p_enc.pth'))\n",
    "    ssf_NEW.res_encoder.load_state_dict(torch.load(pre_path_NEW+'/r_enc.pth'))\n",
    "    ssf_NEW.res_decoder.load_state_dict(torch.load(pre_path_NEW+'/r_dec.pth'))\n",
    "\n",
    "    # JD\n",
    "    ssf_JD = ScaleSpaceFlow_R1eps(num_levels=1, dim=z_dim, stochastic=True, quantize_latents=True, L=2).to(device).eval()\n",
    "    ssf_JD.motion_encoder.load_state_dict(torch.load(pre_path_JD+'/m_enc.pth'))\n",
    "    ssf_JD.motion_decoder.load_state_dict(torch.load(pre_path_JD+'/m_dec.pth'))\n",
    "    ssf_JD.P_encoder.load_state_dict(torch.load(pre_path_JD+'/p_enc.pth'))\n",
    "    ssf_JD.res_encoder.load_state_dict(torch.load(pre_path_JD+'/r_enc.pth'))\n",
    "    ssf_JD.res_decoder.load_state_dict(torch.load(pre_path_JD+'/r_dec.pth'))\n",
    "    \n",
    "    # FMD\n",
    "    ssf_FMD = ScaleSpaceFlow_R1eps(num_levels=1, dim=z_dim, stochastic=True, quantize_latents=True, L=2).to(device).eval()\n",
    "    ssf_FMD.motion_encoder.load_state_dict(torch.load(pre_path_FMD+'/m_enc.pth'))\n",
    "    ssf_FMD.motion_decoder.load_state_dict(torch.load(pre_path_FMD+'/m_dec.pth'))\n",
    "    ssf_FMD.P_encoder.load_state_dict(torch.load(pre_path_FMD+'/p_enc.pth'))\n",
    "    ssf_FMD.res_encoder.load_state_dict(torch.load(pre_path_FMD+'/r_enc.pth'))\n",
    "    ssf_FMD.res_decoder.load_state_dict(torch.load(pre_path_FMD+'/r_dec.pth'))\n",
    "\n",
    "\n",
    "    batch_index = torch.randint(64,(1,)).item()\n",
    "\n",
    "    x = next(iter(test_loader))\n",
    "    x = x.permute(0, 4, 1, 2, 3).to(device).float()\n",
    "\n",
    "    # original frames\n",
    "    x_1 = x[batch_index,0,0,:,:]\n",
    "    x_2 = x[batch_index,0,1,:,:]\n",
    "\n",
    "    hx = encoder(x[:,:,0,...])[0]\n",
    "    x_ref = decoder(hx)\n",
    "    print(x_ref.shape)\n",
    "    print(x[:,:,0,...].shape)\n",
    "    x_1_hat = decoder_hat(hx).detach()\n",
    "    x_2_hat_JD = ssf_JD(x[:,:,1,...], x_ref, x_1_hat)\n",
    "    x_2_hat_NEW = ssf_NEW(x[:,:,1,...], x_ref, x_1_hat)\n",
    "    x_2_hat_FMD = ssf_FMD(x[:,:,1,...], x_ref, x_1_hat)\n",
    "\n",
    "    plot_img_series(x_1, x_2,\n",
    "                    x_1_hat[batch_index,0:,:], \n",
    "                    x_2_hat_JD[batch_index,0:,:], \n",
    "                    x_2_hat_NEW[batch_index,0:,:],\n",
    "                    x_2_hat_FMD[batch_index,0:,:],\n",
    "                   bitrate,\n",
    "                   letter)\n",
    "\n",
    "\n",
    "\n",
    "compare_models(z_dim = 6, lambda_ = 0.01 , bitrate = 12, letter = 'c')"
   ]
  },
  {
   "cell_type": "code",
   "execution_count": 4,
   "metadata": {},
   "outputs": [
    {
     "name": "stdout",
     "output_type": "stream",
     "text": [
      "Finished Loading MNIST!\n",
      "[-1.0, 1.0]\n",
      "[-1.0, 1.0]\n",
      "[-1.0, 1.0]\n",
      "[-1.0, 1.0]\n",
      "torch.Size([64, 1, 64, 64])\n",
      "torch.Size([64, 1, 64, 64])\n"
     ]
    },
    {
     "data": {
      "image/png": "[encoded data removed]",
      "text/plain": [
       "<Figure size 720x1080 with 8 Axes>"
      ]
     },
     "metadata": {
      "needs_background": "light"
     },
     "output_type": "display_data"
    }
   ],
   "source": [
    "compare_models(z_dim = 6, lambda_ = 0.005 , bitrate = 12, letter = 'c')"
   ]
  },
  {
   "cell_type": "code",
   "execution_count": 212,
   "metadata": {},
   "outputs": [],
   "source": [
    "def plot_or_plf(x_1,x_2,x_1_hat,x_2_hat, eps, PLF):\n",
    "    fig, axarr = plt.subplots(2,2)\n",
    "    fig.set_size_inches(10, 10)\n",
    "\n",
    "    axarr[0,1].axis('off')\n",
    "    axarr[0,0].axis('off')\n",
    "    axarr[1,0].axis('off')\n",
    "    axarr[1,1].axis('off')\n",
    "\n",
    "\n",
    "\n",
    "    axarr[0,0].set_title(r\"$X_1$\")\n",
    "    axarr[0,1].set_title(r\"$X_2$\")\n",
    "    axarr[1,0].set_title(r\"$\\hat{X}_1$ - 12 bits\")\n",
    "    axarr[1,1].set_title(r\"$\\hat{X}_2 ~\"+ f\" PLF-{PLF} - \" + f'{eps} bits')\n",
    "\n",
    "    axarr[0,0].imshow(x_1.cpu().data.numpy(),cmap = 'gray')\n",
    "    axarr[0,1].imshow(x_2.cpu().data.numpy(),cmap = 'gray')\n",
    "    axarr[1,0].imshow(x_1_hat.squeeze().cpu().data.numpy(),cmap = 'gray')\n",
    "    axarr[1,1].imshow(x_2_hat.squeeze().cpu().data.numpy(),cmap = 'gray')\n",
    "\n",
    "    \n",
    "    plt.imsave(f\"./reconstructions/R1-eps/x1.png\", x_1.cpu().data.numpy(),cmap = 'gray')\n",
    "    plt.imsave(f\"./reconstructions/R1-eps/x2.png\", x_2.cpu().data.numpy(),cmap = 'gray')\n",
    "    plt.imsave(f\"./reconstructions/R1-eps/x1_hat_12.png\",x_1_hat.squeeze().cpu().data.numpy(),cmap = 'gray')\n",
    "    plt.imsave(f\"./reconstructions/R1-eps/x2_{PLF}_{eps}.png\", x_2_hat.squeeze().cpu().data.numpy(),cmap = 'gray')\n",
    "    \n",
    "    \n",
    "\n",
    "def compare_or_plf(x, PLF = 'NEW', eps = 12, lambda_ = 0.01, gen_x_1_hat = True, x_1_hat = None, x_ref = None):\n",
    "    # path to load trained models from\n",
    "    z_dim = eps//2\n",
    "    \n",
    "    if PLF =='NEW':\n",
    "        pre_path = f'./saved_models/R1-eps/{eps}/R1-eps|dim_128|z_dim_{z_dim}|L_2|'\\\n",
    "                + f'lambdaJD_0.0|lambdaFMD_0.0|lambdaNEW_{lambda_}|lambdaMSE_1.0'\n",
    "    elif PLF =='JD':\n",
    "        pre_path = f'./saved_models/R1-eps/{eps}/R1-eps|dim_128|z_dim_{z_dim}|L_2|'\\\n",
    "                    + f'lambdaJD_{lambda_}|lambdaFMD_0.0|lambdaNEW_0.0|lambdaMSE_1.0'\n",
    "    elif PLF =='FMD':\n",
    "        pre_path = f'./saved_models/R1-eps/{eps}/R1-eps|dim_128|z_dim_{z_dim}|L_2|'\\\n",
    "                + f'lambdaJD_0.0|lambdaFMD_{lambda_}|lambdaNEW_0.0|lambdaMSE_1.0'\n",
    "\n",
    "    # load fixed encoder for first frame\n",
    "    device = torch.device('cuda' if torch.cuda.is_available else cpu)\n",
    "    if gen_x_1_hat:\n",
    "        I_dim = 12 \n",
    "        I_L = 2\n",
    "        encoder = Encoder(dim=I_dim, nc=1, stochastic=True, quantize_latents=True, L=I_L).to(device).eval() \n",
    "        decoder = Decoder_Iframe(dim=I_dim).to(device).eval()\n",
    "        decoder_hat = Decoder_Iframe(dim=I_dim).to(device).eval()\n",
    "        encoder.load_state_dict(torch.load('./I3/I_frame_encoder_zdim_12_L_2.pth'))\n",
    "        decoder.load_state_dict(torch.load('./I3/I_frame_decoderMMSE_zdim_12_L_2.pth'))\n",
    "        decoder_hat.load_state_dict(torch.load('./I3/I_frame_decoder_zdim_12_L_2.pth'))\n",
    "\n",
    "    #load ssf models for second frame\n",
    "\n",
    "    # NEW\n",
    "    ssf = ScaleSpaceFlow_R1eps(num_levels=1, dim=z_dim, stochastic=True, quantize_latents=True, L=2).to(device).eval()\n",
    "    ssf.motion_encoder.load_state_dict(torch.load(pre_path+'/m_enc.pth'))\n",
    "    ssf.motion_decoder.load_state_dict(torch.load(pre_path+'/m_dec.pth'))\n",
    "    ssf.P_encoder.load_state_dict(torch.load(pre_path+'/p_enc.pth'))\n",
    "    ssf.res_encoder.load_state_dict(torch.load(pre_path+'/r_enc.pth'))\n",
    "    ssf.res_decoder.load_state_dict(torch.load(pre_path+'/r_dec.pth'))\n",
    "\n",
    "    # original frames\n",
    "    x_1 = x[0,0,0,:,:]\n",
    "    x_2 = x[0,0,1,:,:]\n",
    "    if gen_x_1_hat:\n",
    "        hx = encoder(x[:,:,0,...])[0]\n",
    "        x_ref = decoder(hx)\n",
    "        x_1_hat = decoder_hat(hx).detach()\n",
    "    print(x_ref.shape, x_1_hat.shape, x[:,:,1,...].shape)\n",
    "    x_2_hat = ssf(x[:,:,1,...], x_ref, x_1_hat)\n",
    "    \n",
    "    \n",
    "    \n",
    "    x_1_hat_ = x_1_hat[0,0:,:]    \n",
    "    x_2_hat = x_2_hat[0,0:,:]\n",
    "    \n",
    "    plot_or_plf(x_1,x_2,x_1_hat_,x_2_hat, eps, PLF)\n",
    "    \n",
    "    return x_1_hat, x_ref\n",
    "\n",
    "    "
   ]
  },
  {
   "cell_type": "code",
   "execution_count": 431,
   "metadata": {},
   "outputs": [
    {
     "name": "stdout",
     "output_type": "stream",
     "text": [
      "Finished Loading MNIST!\n"
     ]
    }
   ],
   "source": [
    "train_loader, test_loader = get_dataloader(data_root='./data/', seq_len=8, batch_size=64, num_digits=1)\n",
    "x = next(iter(test_loader))\n",
    "x = x.permute(0, 4, 1, 2, 3).to(device).float()\n"
   ]
  },
  {
   "cell_type": "code",
   "execution_count": 448,
   "metadata": {},
   "outputs": [
    {
     "name": "stdout",
     "output_type": "stream",
     "text": [
      "[-1.0, 1.0]\n",
      "[-1.0, 1.0]\n",
      "torch.Size([64, 1, 64, 64]) torch.Size([64, 1, 64, 64]) torch.Size([64, 1, 64, 64])\n"
     ]
    },
    {
     "data": {
      "image/png": "[encoded data removed]",
      "text/plain": [
       "<Figure size 720x720 with 4 Axes>"
      ]
     },
     "metadata": {
      "needs_background": "light"
     },
     "output_type": "display_data"
    }
   ],
   "source": [
    "x1_hat, x_ref = compare_or_plf(x, PLF = 'FMD', eps = 12, lambda_ = 0.01, gen_x_1_hat = True, x_1_hat = x1_hat, x_ref = x_ref)"
   ]
  },
  {
   "cell_type": "code",
   "execution_count": 127,
   "metadata": {},
   "outputs": [],
   "source": [
    "def plot_img_series_2(x_1,x_2,x_2_hat_JD, x_2_hat_NEW,x_2_hat_FMD, bitrate):\n",
    "    fig, axarr = plt.subplots(4,3)\n",
    "    fig.set_size_inches(10, 15)\n",
    "\n",
    "    axarr[0,0].axis('off')\n",
    "    axarr[0,1].axis('off')\n",
    "    axarr[0,2].axis('off')\n",
    "    axarr[1,0].axis('off')\n",
    "    axarr[1,1].axis('off')\n",
    "    axarr[1,2].axis('off')\n",
    "    axarr[2,0].axis('off')\n",
    "    axarr[2,1].axis('off')\n",
    "    axarr[2,2].axis('off')\n",
    "    axarr[3,0].axis('off')\n",
    "    axarr[3,1].axis('off')\n",
    "    axarr[3,2].axis('off')\n",
    "\n",
    "\n",
    "    axarr[0,0].set_title(r\"$X_1$\")\n",
    "    axarr[0,1].set_title(r\"$X_2$\")\n",
    "    axarr[0,2].set_title(\"original trajectory\")\n",
    "    axarr[1,0].set_title(r\"$X_1$ \")\n",
    "    axarr[1,1].set_title(r\"$\\hat{X}_2 ~ PLF-JD$ - \" + f'{bitrate} bits')\n",
    "    axarr[1,2].set_title(\"JD trajectory\")\n",
    "    axarr[2,0].set_title(r\"$X_1$\")\n",
    "    axarr[2,1].set_title(r\"$\\hat{X}_2 ~ PLF-FMD$ - \"  + f'{bitrate} bits')\n",
    "    axarr[2,2].set_title(\"FMD trajectory\")\n",
    "    axarr[3,0].set_title(r\"$X_1$\")\n",
    "    axarr[3,1].set_title(r\"$\\hat{X}_2 ~ PLF-NEW$ - \"  + f'{bitrate} bits')\n",
    "    axarr[3,2].set_title(\"NEW trajectory\")\n",
    "\n",
    "    or_t = x_1.squeeze().cpu().data.numpy() + x_2.squeeze().cpu().data.numpy()\n",
    "    jd_t = x_1.squeeze().cpu().data.numpy() + x_2_hat_JD.squeeze().cpu().data.numpy()\n",
    "    fmd_t = x_1.squeeze().cpu().data.numpy() + x_2_hat_FMD.squeeze().cpu().data.numpy()\n",
    "    new_t = x_1.squeeze().cpu().data.numpy() + x_2_hat_NEW.squeeze().cpu().data.numpy()\n",
    "    \n",
    "    or_t[or_t>1] = 1\n",
    "    jd_t[jd_t>1] = 1\n",
    "    fmd_t[fmd_t>1] = 1\n",
    "    new_t[new_t>1] = 1\n",
    "    \n",
    "    axarr[0,0].imshow(x_1.squeeze().cpu().data.numpy(),cmap = 'gray')\n",
    "    axarr[0,1].imshow(x_2.squeeze().cpu().data.numpy(),cmap = 'gray')\n",
    "    axarr[0,2].imshow(or_t, cmap = 'gray')\n",
    "    \n",
    "    axarr[1,0].imshow(x_1.squeeze().cpu().data.numpy(),cmap = 'gray')\n",
    "    axarr[1,1].imshow(x_2_hat_JD.squeeze().cpu().data.numpy(),cmap = 'gray')\n",
    "    axarr[1,2].imshow(jd_t, cmap = 'gray')\n",
    "    \n",
    "    axarr[2,0].imshow(x_1.squeeze().cpu().data.numpy(),cmap = 'gray')\n",
    "    axarr[2,1].imshow(x_2_hat_FMD.squeeze().cpu().data.numpy(),cmap = 'gray')\n",
    "    axarr[2,2].imshow(fmd_t, cmap = 'gray')\n",
    "    \n",
    "    axarr[3,0].imshow(x_1.squeeze().cpu().data.numpy(),cmap = 'gray')\n",
    "    axarr[3,1].imshow(x_2_hat_NEW.squeeze().cpu().data.numpy(),cmap = 'gray')\n",
    "    axarr[3,2].imshow(new_t, cmap = 'gray')\n",
    "    "
   ]
  },
  {
   "cell_type": "code",
   "execution_count": 482,
   "metadata": {},
   "outputs": [],
   "source": [
    "def plot_img_series_jd(x_1,x_2,x_2_hat_JD1, x_2_hat_JD2,x_2_hat_JD3, bitrate):\n",
    "    fig, axarr = plt.subplots(4,3)\n",
    "    fig.set_size_inches(10, 15)\n",
    "\n",
    "    axarr[0,0].axis('off')\n",
    "    axarr[0,1].axis('off')\n",
    "    axarr[0,2].axis('off')\n",
    "    axarr[1,0].axis('off')\n",
    "    axarr[1,1].axis('off')\n",
    "    axarr[1,2].axis('off')\n",
    "    axarr[2,0].axis('off')\n",
    "    axarr[2,1].axis('off')\n",
    "    axarr[2,2].axis('off')\n",
    "    axarr[3,0].axis('off')\n",
    "    axarr[3,1].axis('off')\n",
    "    axarr[3,2].axis('off')\n",
    "\n",
    "\n",
    "    axarr[0,0].set_title(r\"$X_1$\")\n",
    "    axarr[0,1].set_title(r\"$X_2$\")\n",
    "    axarr[0,2].set_title(\"original trajectory\")\n",
    "    axarr[1,0].set_title(r\"$X_1$ \")\n",
    "    axarr[1,1].set_title(r\"$\\hat{X}_2 ~ PLF-JD 1$ - \" + f'{bitrate} bits')\n",
    "    axarr[1,2].set_title(\"JD trajectory 1\")\n",
    "    axarr[2,0].set_title(r\"$X_1$\")\n",
    "    axarr[2,1].set_title(r\"$\\hat{X}_2 ~ PLF-JD 2$ - \"  + f'{bitrate} bits')\n",
    "    axarr[2,2].set_title(\"JD trajectory 2\")\n",
    "    axarr[3,0].set_title(r\"$X_1$\")\n",
    "    axarr[3,1].set_title(r\"$\\hat{X}_2 ~ PLF-JD 3$ - \"  + f'{bitrate} bits')\n",
    "    axarr[3,2].set_title(\"JD trajectory 3\")\n",
    "\n",
    "    or_t = x_1.squeeze().cpu().data.numpy() + x_2.squeeze().cpu().data.numpy()\n",
    "    jd1_t = x_1.squeeze().cpu().data.numpy() + x_2_hat_JD1.squeeze().cpu().data.numpy()\n",
    "    jd2_t = x_1.squeeze().cpu().data.numpy() + x_2_hat_JD2.squeeze().cpu().data.numpy()\n",
    "    jd3_t = x_1.squeeze().cpu().data.numpy() + x_2_hat_JD3.squeeze().cpu().data.numpy()\n",
    "    \n",
    "    or_t[or_t>1] = 1\n",
    "    jd1_t[jd1_t>1] = 1\n",
    "    jd2_t[jd2_t>1] = 1\n",
    "    jd3_t[jd3_t>1] = 1\n",
    "    \n",
    "    axarr[0,0].imshow(x_1.squeeze().cpu().data.numpy(),cmap = 'gray')\n",
    "    axarr[0,1].imshow(x_2.squeeze().cpu().data.numpy(),cmap = 'gray')\n",
    "    axarr[0,2].imshow(or_t, cmap = 'gray')\n",
    "    \n",
    "    axarr[1,0].imshow(x_1.squeeze().cpu().data.numpy(),cmap = 'gray')\n",
    "    axarr[1,1].imshow(x_2_hat_JD1.squeeze().cpu().data.numpy(),cmap = 'gray')\n",
    "    axarr[1,2].imshow(jd1_t, cmap = 'gray')\n",
    "    \n",
    "    axarr[2,0].imshow(x_1.squeeze().cpu().data.numpy(),cmap = 'gray')\n",
    "    axarr[2,1].imshow(x_2_hat_JD2.squeeze().cpu().data.numpy(),cmap = 'gray')\n",
    "    axarr[2,2].imshow(jd2_t, cmap = 'gray')\n",
    "    \n",
    "    axarr[3,0].imshow(x_1.squeeze().cpu().data.numpy(),cmap = 'gray')\n",
    "    axarr[3,1].imshow(x_2_hat_JD3.squeeze().cpu().data.numpy(),cmap = 'gray')\n",
    "    axarr[3,2].imshow(jd3_t, cmap = 'gray')\n",
    "\n",
    "\n",
    "\n",
    "def compare_models_JD(lambda_ = 0.0 , eps = 2, x = 0, step =5):\n",
    "    # path to load trained models from\n",
    "    pre_path_NEW = f'./saved_models/inf-eps/step_{step}/inf-{eps}|lambdaJD_0.0|lambdaFMD_0.0|lambdaNEW_{lambda_}|lambdaMSE_1.0'\n",
    "    pre_path_JD = f'./saved_models/inf-eps/step_{step}/inf-{eps}|lambdaJD_{lambda_}|lambdaFMD_0.0|lambdaNEW_0.0|lambdaMSE_1.0'\n",
    "    pre_path_FMD = f'./saved_models/inf-eps/step_{step}/inf-{eps}|lambdaJD_0.0|lambdaFMD_{lambda_}|lambdaNEW_0.0|lambdaMSE_1.0'\n",
    "    z_dim = eps//2\n",
    "    #load ssf models for second frame\n",
    "    \n",
    "    \n",
    "    # JD\n",
    "    ssf_JD = ScaleSpaceFlow(num_levels=1, dim=z_dim, stochastic=True, quantize_latents=True, L=2).to(device).eval()\n",
    "    ssf_JD.motion_encoder.load_state_dict(torch.load(pre_path_JD+'/m_enc.pth'))\n",
    "    ssf_JD.motion_decoder.load_state_dict(torch.load(pre_path_JD+'/m_dec.pth'))\n",
    "    ssf_JD.P_encoder.load_state_dict(torch.load(pre_path_JD+'/p_enc.pth'))\n",
    "    ssf_JD.res_encoder.load_state_dict(torch.load(pre_path_JD+'/r_enc.pth'))\n",
    "    ssf_JD.res_decoder.load_state_dict(torch.load(pre_path_JD+'/r_dec.pth'))\n",
    "    \n",
    "    # original frames\n",
    "    x_1 = x[:,:,0,...]\n",
    "    x_2 = x[:,:,1,...]\n",
    "    x_2_hat_JD1 = ssf_JD(x_2,x_1)\n",
    "    x_2_hat_JD2 = ssf_JD(x_2,x_1)\n",
    "    x_2_hat_JD3 = ssf_JD(x_2,x_1)\n",
    "\n",
    "    plot_img_series_jd(x_1[batch_index],\n",
    "                      x_2[batch_index], \n",
    "                    x_2_hat_JD1[batch_index,0:,:], \n",
    "                    x_2_hat_JD2[batch_index,0:,:],\n",
    "                    x_2_hat_JD3[batch_index,0:,:],\n",
    "                   eps)"
   ]
  },
  {
   "cell_type": "code",
   "execution_count": 504,
   "metadata": {},
   "outputs": [],
   "source": [
    "def plot_img_series_FMD(x_1,x_2,x_2_hat_JD1, x_2_hat_JD2,x_2_hat_JD3, bitrate):\n",
    "    fig, axarr = plt.subplots(4,3)\n",
    "    fig.set_size_inches(10, 15)\n",
    "\n",
    "    axarr[0,0].axis('off')\n",
    "    axarr[0,1].axis('off')\n",
    "    axarr[0,2].axis('off')\n",
    "    axarr[1,0].axis('off')\n",
    "    axarr[1,1].axis('off')\n",
    "    axarr[1,2].axis('off')\n",
    "    axarr[2,0].axis('off')\n",
    "    axarr[2,1].axis('off')\n",
    "    axarr[2,2].axis('off')\n",
    "    axarr[3,0].axis('off')\n",
    "    axarr[3,1].axis('off')\n",
    "    axarr[3,2].axis('off')\n",
    "\n",
    "\n",
    "    axarr[0,0].set_title(r\"$X_1$\")\n",
    "    axarr[0,1].set_title(r\"$X_2$\")\n",
    "    axarr[0,2].set_title(\"original trajectory\")\n",
    "    axarr[1,0].set_title(r\"$X_1$ \")\n",
    "    axarr[1,1].set_title(r\"$\\hat{X}_2 ~ PLF-FMD 1$ - \" + f'{bitrate} bits')\n",
    "    axarr[1,2].set_title(\"JD trajectory 1\")\n",
    "    axarr[2,0].set_title(r\"$X_1$\")\n",
    "    axarr[2,1].set_title(r\"$\\hat{X}_2 ~ PLF-FMD 2$ - \"  + f'{bitrate} bits')\n",
    "    axarr[2,2].set_title(\"JD trajectory 2\")\n",
    "    axarr[3,0].set_title(r\"$X_1$\")\n",
    "    axarr[3,1].set_title(r\"$\\hat{X}_2 ~ PLF-FMD 3$ - \"  + f'{bitrate} bits')\n",
    "    axarr[3,2].set_title(\"JD trajectory 3\")\n",
    "\n",
    "    or_t = x_1.squeeze().cpu().data.numpy() + x_2.squeeze().cpu().data.numpy()\n",
    "    jd1_t = x_1.squeeze().cpu().data.numpy() + x_2_hat_JD1.squeeze().cpu().data.numpy()\n",
    "    jd2_t = x_1.squeeze().cpu().data.numpy() + x_2_hat_JD2.squeeze().cpu().data.numpy()\n",
    "    jd3_t = x_1.squeeze().cpu().data.numpy() + x_2_hat_JD3.squeeze().cpu().data.numpy()\n",
    "    \n",
    "    or_t[or_t>1] = 1\n",
    "    jd1_t[jd1_t>1] = 1\n",
    "    jd2_t[jd2_t>1] = 1\n",
    "    jd3_t[jd3_t>1] = 1\n",
    "    \n",
    "    axarr[0,0].imshow(x_1.squeeze().cpu().data.numpy(),cmap = 'gray')\n",
    "    axarr[0,1].imshow(x_2.squeeze().cpu().data.numpy(),cmap = 'gray')\n",
    "    axarr[0,2].imshow(or_t, cmap = 'gray')\n",
    "    \n",
    "    axarr[1,0].imshow(x_1.squeeze().cpu().data.numpy(),cmap = 'gray')\n",
    "    axarr[1,1].imshow(x_2_hat_JD1.squeeze().cpu().data.numpy(),cmap = 'gray')\n",
    "    axarr[1,2].imshow(jd1_t, cmap = 'gray')\n",
    "    \n",
    "    axarr[2,0].imshow(x_1.squeeze().cpu().data.numpy(),cmap = 'gray')\n",
    "    axarr[2,1].imshow(x_2_hat_JD2.squeeze().cpu().data.numpy(),cmap = 'gray')\n",
    "    axarr[2,2].imshow(jd2_t, cmap = 'gray')\n",
    "    \n",
    "    axarr[3,0].imshow(x_1.squeeze().cpu().data.numpy(),cmap = 'gray')\n",
    "    axarr[3,1].imshow(x_2_hat_JD3.squeeze().cpu().data.numpy(),cmap = 'gray')\n",
    "    axarr[3,2].imshow(jd3_t, cmap = 'gray')\n",
    "\n",
    "\n",
    "\n",
    "def compare_models_FMD(lambda_ = 0.0 , eps = 2, x = 0, step =5):\n",
    "    # path to load trained models from\n",
    "    pre_path_FMD = f'./saved_models/inf-eps/step_{step}/inf-{eps}|lambdaJD_0.0|lambdaFMD_{lambda_}|lambdaNEW_0.0|lambdaMSE_1.0'\n",
    "    z_dim = eps//2\n",
    "    #load ssf models for second frame\n",
    "    \n",
    "    \n",
    "    # JD\n",
    "    ssf_FMD = ScaleSpaceFlow(num_levels=1, dim=z_dim, stochastic=True, quantize_latents=True, L=2).to(device).eval()\n",
    "    ssf_FMD.motion_encoder.load_state_dict(torch.load(pre_path_FMD+'/m_enc.pth'))\n",
    "    ssf_FMD.motion_decoder.load_state_dict(torch.load(pre_path_FMD+'/m_dec.pth'))\n",
    "    ssf_FMD.P_encoder.load_state_dict(torch.load(pre_path_FMD+'/p_enc.pth'))\n",
    "    ssf_FMD.res_encoder.load_state_dict(torch.load(pre_path_FMD+'/r_enc.pth'))\n",
    "    ssf_FMD.res_decoder.load_state_dict(torch.load(pre_path_FMD+'/r_dec.pth'))\n",
    "    \n",
    "    # original frames\n",
    "    x_1 = x[:,:,0,...]\n",
    "    x_2 = x[:,:,1,...]\n",
    "    x_2_hat_FMD1 = ssf_FMD(x_2,x_1)\n",
    "    x_2_hat_FMD2 = ssf_FMD(x_2,x_1)\n",
    "    x_2_hat_FMD3 = ssf_FMD(x_2,x_1)\n",
    "\n",
    "    plot_img_series_FMD(x_1[batch_index],\n",
    "                      x_2[batch_index], \n",
    "                    x_2_hat_FMD1[batch_index,0:,:], \n",
    "                    x_2_hat_FMD2[batch_index,0:,:],\n",
    "                    x_2_hat_FMD3[batch_index,0:,:],\n",
    "                   eps)"
   ]
  },
  {
   "cell_type": "code",
   "execution_count": 503,
   "metadata": {
    "scrolled": true
   },
   "outputs": [
    {
     "name": "stdout",
     "output_type": "stream",
     "text": [
      "Finished Loading MovingMNIST_l_custom_step!\n",
      "torch.Size([64, 1, 8, 64, 64])\n",
      "[-1.0, 1.0]\n"
     ]
    },
    {
     "data": {
      "image/png": "[encoded data removed]",
      "text/plain": [
       "<Figure size 720x1080 with 12 Axes>"
      ]
     },
     "metadata": {
      "needs_background": "light"
     },
     "output_type": "display_data"
    }
   ],
   "source": [
    "batch_index =  torch.randint(64,(1,)).item()\n",
    "loader, test_loader = get_dataloader(data_root='./data/', dataset = 'mmnist_custom_step',step = 5, seq_len=8, batch_size=64, num_digits=1)\n",
    "x1 = next(iter(loader))\n",
    "x1 = x1.permute(0, 4, 1, 2, 3).to(device).float()\n",
    "print(x1.shape)\n",
    "compare_models_JD(lambda_ = 0.02 , eps = 2, x = x1, step =5)"
   ]
  },
  {
   "cell_type": "code",
   "execution_count": 506,
   "metadata": {},
   "outputs": [
    {
     "name": "stdout",
     "output_type": "stream",
     "text": [
      "[-1.0, 1.0]\n",
      "[-1.0, 1.0]\n"
     ]
    },
    {
     "data": {
      "image/png": "[encoded data removed]",
      "text/plain": [
       "<Figure size 720x1080 with 12 Axes>"
      ]
     },
     "metadata": {
      "needs_background": "light"
     },
     "output_type": "display_data"
    },
    {
     "data": {
      "image/png": "[encoded data removed]",
      "text/plain": [
       "<Figure size 720x1080 with 12 Axes>"
      ]
     },
     "metadata": {
      "needs_background": "light"
     },
     "output_type": "display_data"
    }
   ],
   "source": [
    "compare_models_JD(lambda_ = 0.02 , eps = 2, x = x1, step =15)\n",
    "compare_models_FMD(lambda_ = 0.02 , eps = 2, x = x1, step =15)"
   ]
  },
  {
   "cell_type": "code",
   "execution_count": 232,
   "metadata": {
    "scrolled": true
   },
   "outputs": [
    {
     "name": "stdout",
     "output_type": "stream",
     "text": [
      "Finished Loading MNIST!\n",
      "torch.Size([64, 1, 8, 64, 64])\n"
     ]
    }
   ],
   "source": [
    "def compare_models_2(lambda_ = 0.0 , eps = 2, x = 0,step=15, stochastic = True):\n",
    "    # path to load trained models from\n",
    "    pre_path_NEW = f'./saved_models/inf-eps/step_{step}/inf-{eps}|lambdaJD_0.0|lambdaFMD_0.0|lambdaNEW_{lambda_}|lambdaMSE_1.0'\n",
    "    pre_path_JD = f'./saved_models/inf-eps/step_{step}/inf-{eps}|lambdaJD_{lambda_}|lambdaFMD_0.0|lambdaNEW_0.0|lambdaMSE_1.0'\n",
    "    pre_path_FMD = f'./saved_models/inf-eps/step_{step}/inf-{eps}|lambdaJD_0.0|lambdaFMD_{lambda_}|lambdaNEW_0.0|lambdaMSE_1.0'\n",
    "    z_dim = eps//2\n",
    "    #load ssf models for second frame\n",
    "    \n",
    "    # NEW\n",
    "    ssf_NEW = ScaleSpaceFlow(num_levels=1, dim=z_dim, stochastic=stochastic, quantize_latents=True, L=2).to(device).eval()\n",
    "    ssf_NEW.motion_encoder.load_state_dict(torch.load(pre_path_NEW+'/m_enc.pth'))\n",
    "    ssf_NEW.motion_decoder.load_state_dict(torch.load(pre_path_NEW+'/m_dec.pth'))\n",
    "    ssf_NEW.P_encoder.load_state_dict(torch.load(pre_path_NEW+'/p_enc.pth'))\n",
    "    ssf_NEW.res_encoder.load_state_dict(torch.load(pre_path_NEW+'/r_enc.pth'))\n",
    "    ssf_NEW.res_decoder.load_state_dict(torch.load(pre_path_NEW+'/r_dec.pth'))\n",
    "\n",
    "    # JD\n",
    "    ssf_JD = ScaleSpaceFlow(num_levels=1, dim=z_dim, stochastic=True, quantize_latents=True, L=2).to(device).eval()\n",
    "    ssf_JD.motion_encoder.load_state_dict(torch.load(pre_path_JD+'/m_enc.pth'))\n",
    "    ssf_JD.motion_decoder.load_state_dict(torch.load(pre_path_JD+'/m_dec.pth'))\n",
    "    ssf_JD.P_encoder.load_state_dict(torch.load(pre_path_JD+'/p_enc.pth'))\n",
    "    ssf_JD.res_encoder.load_state_dict(torch.load(pre_path_JD+'/r_enc.pth'))\n",
    "    ssf_JD.res_decoder.load_state_dict(torch.load(pre_path_JD+'/r_dec.pth'))\n",
    "    \n",
    "    # FMD\n",
    "    ssf_FMD = ScaleSpaceFlow(num_levels=1, dim=z_dim, stochastic=stochastic, quantize_latents=True, L=2).to(device).eval()\n",
    "    ssf_FMD.motion_encoder.load_state_dict(torch.load(pre_path_FMD+'/m_enc.pth'))\n",
    "    ssf_FMD.motion_decoder.load_state_dict(torch.load(pre_path_FMD+'/m_dec.pth'))\n",
    "    ssf_FMD.P_encoder.load_state_dict(torch.load(pre_path_FMD+'/p_enc.pth'))\n",
    "    ssf_FMD.res_encoder.load_state_dict(torch.load(pre_path_FMD+'/r_enc.pth'))\n",
    "    ssf_FMD.res_decoder.load_state_dict(torch.load(pre_path_FMD+'/r_dec.pth'))\n",
    "\n",
    "    # original frames\n",
    "    x_1 = x[:,:,0,...]\n",
    "    x_2 = x[:,:,1,...]\n",
    "    x_2_hat_JD = ssf_JD(x_2,x_1)\n",
    "    x_2_hat_NEW = ssf_NEW(x_2,x_1)\n",
    "    x_2_hat_FMD = ssf_FMD(x_2,x_1)\n",
    "\n",
    "    plot_img_series_2(x_1[batch_index],\n",
    "                      x_2[batch_index], \n",
    "                    x_2_hat_JD[batch_index,0:,:], \n",
    "                    x_2_hat_NEW[batch_index,0:,:],\n",
    "                    x_2_hat_FMD[batch_index,0:,:],\n",
    "                   eps)\n",
    "\n",
    "batch_index =  34 #torch.randint(64,(1,)).item()\n",
    "loader, test_loader = get_dataloader(data_root='./data/', dataset = 'mmnist', seq_len=8, batch_size=64, num_digits=1)\n",
    "x = next(iter(loader))\n",
    "x = x.permute(0, 4, 1, 2, 3).to(device).float()\n",
    "print(x.shape)\n"
   ]
  },
  {
   "cell_type": "code",
   "execution_count": 466,
   "metadata": {},
   "outputs": [
    {
     "name": "stdout",
     "output_type": "stream",
     "text": [
      "Finished Loading MovingMNIST_l_custom_step!\n",
      "torch.Size([64, 1, 8, 64, 64])\n"
     ]
    }
   ],
   "source": [
    "batch_index =  torch.randint(64,(1,)).item()\n",
    "loader, test_loader = get_dataloader(data_root='./data/', dataset = 'mmnist_custom_step',step = 5, seq_len=8, batch_size=64, num_digits=1)\n",
    "x1 = next(iter(loader))\n",
    "x1 = x1.permute(0, 4, 1, 2, 3).to(device).float()\n",
    "print(x1.shape)"
   ]
  },
  {
   "cell_type": "code",
   "execution_count": 498,
   "metadata": {},
   "outputs": [
    {
     "name": "stdout",
     "output_type": "stream",
     "text": [
      "[-1.0, 1.0]\n",
      "[-1.0, 1.0]\n",
      "[-1.0, 1.0]\n"
     ]
    },
    {
     "data": {
      "image/png": "[encoded data removed]",
      "text/plain": [
       "<Figure size 720x1080 with 12 Axes>"
      ]
     },
     "metadata": {
      "needs_background": "light"
     },
     "output_type": "display_data"
    }
   ],
   "source": [
    "\n",
    "compare_models_2(lambda_ = 0.02 , eps = 2, x = x1, stochastic = True, step = 5)\n"
   ]
  },
  {
   "cell_type": "code",
   "execution_count": 15,
   "metadata": {},
   "outputs": [],
   "source": [
    "def plot_video(video):\n",
    "    \n",
    "    fig, axarr = plt.subplots(1,8)\n",
    "    fig.set_size_inches(20, 2)\n",
    "    frame = np.zeros((64,64), dtype=np.float32)\n",
    "    \n",
    "    for i in range(8):\n",
    "        axarr[i].axis('off')\n",
    "        axarr[i].imshow(video[i],cmap = 'gray')\n",
    "        #frame += video[i]\n",
    "    #frame[frame>1] = 1.\n",
    "    \n",
    "    #axarr[8].axis('off')\n",
    "    #axarr[8].imshow(frame,cmap = 'gray')\n",
    "        \n",
    "    plt.show()"
   ]
  },
  {
   "cell_type": "code",
   "execution_count": 131,
   "metadata": {},
   "outputs": [
    {
     "data": {
      "image/png": "[encoded data removed]",
      "text/plain": [
       "<Figure size 1440x144 with 8 Axes>"
      ]
     },
     "metadata": {
      "needs_background": "light"
     },
     "output_type": "display_data"
    }
   ],
   "source": [
    "train_loader = MovingMNIST(\n",
    "                        train=True,\n",
    "                        data_root='./data/',\n",
    "                        seq_len=8,\n",
    "                        image_size=64,\n",
    "                        deterministic=False,\n",
    "                        num_digits=2)\n",
    "\n",
    "\n",
    "train_batch = train_loader[np.random.randint(len(train_loader))]\n",
    "video = train_batch.squeeze()\n",
    "plot_video(video)"
   ]
  },
  {
   "cell_type": "code",
   "execution_count": 128,
   "metadata": {},
   "outputs": [],
   "source": [
    "import torchvision.transforms.functional as TF\n",
    "from types import SimpleNamespace\n",
    "import random"
   ]
  },
  {
   "cell_type": "code",
   "execution_count": 137,
   "metadata": {},
   "outputs": [],
   "source": [
    "\n",
    "angle_range = (-10, 10)\n",
    "translate_range = ((-5, 5), (-5, 5))\n",
    "scale_range = (0, 0)\n",
    "shear_range = (-3, 3)\n",
    "\n",
    "angle     = np.random.uniform(*angle_range)\n",
    "translate = (np.random.uniform(*translate_range[0]), \n",
    "            np.random.uniform(*translate_range[1]))\n",
    "scale     = 1 #random.uniform(*scale_range)\n",
    "shear     = 0 #(0,0)#random.uniform(*shear_range)\n",
    "\n",
    "data = datasets.MNIST(\n",
    "            './data/',\n",
    "            train=True,\n",
    "            download=True,\n",
    "            transform=transforms.Compose(\n",
    "            [transforms.Resize(28),\n",
    "             transforms.ToTensor()]))\n",
    "\n",
    "digit, _ = data[0]\n",
    "img = TF.pad (digit,padding=18)"
   ]
  },
  {
   "cell_type": "code",
   "execution_count": 138,
   "metadata": {},
   "outputs": [
    {
     "data": {
      "image/png": "[encoded data removed]",
      "text/plain": [
       "<Figure size 432x288 with 1 Axes>"
      ]
     },
     "metadata": {
      "needs_background": "light"
     },
     "output_type": "display_data"
    },
    {
     "data": {
      "image/png": "[encoded data removed]",
      "text/plain": [
       "<Figure size 432x288 with 1 Axes>"
      ]
     },
     "metadata": {
      "needs_background": "light"
     },
     "output_type": "display_data"
    },
    {
     "data": {
      "image/png": "[encoded data removed]",
      "text/plain": [
       "<Figure size 432x288 with 1 Axes>"
      ]
     },
     "metadata": {
      "needs_background": "light"
     },
     "output_type": "display_data"
    },
    {
     "data": {
      "image/png": "[encoded data removed]",
      "text/plain": [
       "<Figure size 432x288 with 1 Axes>"
      ]
     },
     "metadata": {
      "needs_background": "light"
     },
     "output_type": "display_data"
    },
    {
     "data": {
      "image/png": "[encoded data removed]",
      "text/plain": [
       "<Figure size 432x288 with 1 Axes>"
      ]
     },
     "metadata": {
      "needs_background": "light"
     },
     "output_type": "display_data"
    },
    {
     "data": {
      "image/png": "[encoded data removed]",
      "text/plain": [
       "<Figure size 432x288 with 1 Axes>"
      ]
     },
     "metadata": {
      "needs_background": "light"
     },
     "output_type": "display_data"
    },
    {
     "data": {
      "image/png": "[encoded data removed]",
      "text/plain": [
       "<Figure size 432x288 with 1 Axes>"
      ]
     },
     "metadata": {
      "needs_background": "light"
     },
     "output_type": "display_data"
    },
    {
     "data": {
      "image/png": "[encoded data removed]",
      "text/plain": [
       "<Figure size 432x288 with 1 Axes>"
      ]
     },
     "metadata": {
      "needs_background": "light"
     },
     "output_type": "display_data"
    }
   ],
   "source": [
    "imgs = []\n",
    "for i in range(8):\n",
    "    plt.imshow(img.squeeze().numpy(),cmap = 'gray')\n",
    "    plt.axis('off')\n",
    "    plt.show()\n",
    "    img = TF.affine(img, angle, translate, scale, shear)\n",
    "    \n"
   ]
  },
  {
   "cell_type": "code",
   "execution_count": 56,
   "metadata": {},
   "outputs": [],
   "source": [
    "def evaluate_R1eps(metric = 'NEW',lambdas = [0,1,2,3,5,8,10,40,80], bitrates = [2,4,8,12,16]):\n",
    "    MSE = {'2': [], '4': [], '8': [], '12': [], '16': []}\n",
    "    PLF = {'2': [], '4': [], '8': [], '12': [], '16': []}\n",
    "    \n",
    "    train_loader, test_loader = get_dataloader(data_root='./data/', seq_len=8, batch_size=64, num_digits=1)\n",
    "    \n",
    "    encoder = Encoder(dim=12, nc=1, stochastic=True, quantize_latents=True, L=2).to(device).eval()\n",
    "    decoder = Decoder_Iframe(dim=12).to(device).eval()\n",
    "    decoder_hat = Decoder_Iframe(dim=12).to(device).eval()\n",
    "    encoder.load_state_dict(torch.load('./I3/I_frame_encoder_zdim_12_L_2.pth'))\n",
    "    decoder.load_state_dict(torch.load('./I3/I_frame_decoderMMSE_zdim_12_L_2.pth'))\n",
    "    decoder_hat.load_state_dict(torch.load('./I3/I_frame_decoder_zdim_12_L_2.pth'))\n",
    "    mse_loss = nn.MSELoss(reduction = 'sum')\n",
    "    \n",
    "    for bitrate in bitrates:\n",
    "        zdim = bitrate//2\n",
    "        MSE_list = []\n",
    "        PLF_list = []\n",
    "\n",
    "        for l in lambdas:\n",
    "            l_ = l*1e-3\n",
    "            JD = FMD = NEW = False\n",
    "            if metric == 'NEW':\n",
    "                path = f'./saved_models/{bitrate}/R1-eps|dim_128|z_dim_{zdim}|L_2|'\\\n",
    "                    + f'lambdaJD_0.0|lambdaFMD_0.0|lambdaNEW_{l_}|lambdaMSE_1.0'\n",
    "                discriminator = Discriminator_v3(out_ch=2).to(device)\n",
    "                discriminator.load_state_dict(torch.load(path + '/discriminator_NEW.pth'))\n",
    "                NEW = True\n",
    "            elif metric == 'JD':\n",
    "                path = f'./saved_models/{bitrate}/R1-eps|dim_128|z_dim_{zdim}|L_2|'\\\n",
    "                    + f'lambdaJD_{l_}|lambdaFMD_0.0|lambdaNEW_0.0|lambdaMSE_1.0'\n",
    "                discriminator = Discriminator_v3(out_ch=2).to(device)\n",
    "                discriminator.load_state_dict(torch.load(path + '/discriminator_JD.pth'))\n",
    "                JD = True\n",
    "            elif metric == 'FMD':\n",
    "                path = f'./saved_models/{bitrate}/R1-eps|dim_128|z_dim_{zdim}|L_2|'\\\n",
    "                    + f'lambdaJD_0.0|lambdaFMD_{l_}|lambdaNEW_0.0|lambdaMSE_1.0'\n",
    "                discriminator = Discriminator_v3(out_ch=1).to(device) \n",
    "                discriminator.load_state_dict(torch.load(path + '/discriminator_FMD.pth'))\n",
    "                FMD = True\n",
    "            print('testing:')\n",
    "            print(path) \n",
    "            ssf = ScaleSpaceFlow_R1eps(num_levels=1, dim=zdim, stochastic=True, quantize_latents=True, L=2).to(device).eval()  \n",
    "            ssf.motion_encoder.load_state_dict(torch.load(path + '/m_enc.pth'))\n",
    "            ssf.motion_decoder.load_state_dict(torch.load(path + '/m_dec.pth'))\n",
    "            ssf.P_encoder.load_state_dict(torch.load(path + '/p_enc.pth'))\n",
    "            ssf.res_encoder.load_state_dict(torch.load(path + '/r_enc.pth'))\n",
    "            ssf.res_decoder.load_state_dict(torch.load(path + '/r_dec.pth'))\n",
    "            \n",
    "            distance = [] \n",
    "            distortion = []\n",
    "            num_x = 0\n",
    "            for i, x in enumerate(iter(test_loader)):\n",
    "                with torch.no_grad():\n",
    "                    #Get the data\n",
    "                    x = x.permute(0, 4, 1, 2, 3)\n",
    "                    x = x.cuda().float()\n",
    "                    x_cur = x[:,:,1,...]\n",
    "                    with torch.no_grad():\n",
    "                        hx = encoder(x[:,:,0,...])[0]\n",
    "                        x_ref = decoder(hx).detach()\n",
    "                        x_1_hat = decoder_hat(hx).detach()\n",
    "                    x_hat = ssf(x_cur, x_ref, x_1_hat)\n",
    "\n",
    "                    if JD:\n",
    "                        fake_vid = torch.cat((x_1_hat, x_hat), dim = 1).detach()\n",
    "                        real_vid = x[:,0,:2,...].detach() \n",
    "                        fake_validity = discriminator(fake_vid)\n",
    "                        real_validity = discriminator(real_vid)\n",
    "\n",
    "                    if NEW:\n",
    "                        fake_vid = torch.cat((x_1_hat, x_hat), dim = 1).detach()\n",
    "                        real_vid_new = torch.cat((x_1_hat, x_cur), dim = 1).detach()\n",
    "                        new_metric_real_validity = discriminator(real_vid_new)\n",
    "                        new_metric_fake_validity = discriminator(fake_vid)\n",
    "\n",
    "                    if FMD:\n",
    "                        fake_img = x_hat.detach()\n",
    "                        real_img = x[:,:,1,...].detach()\n",
    "                        fake_valid_m = discriminator(fake_img)\n",
    "                        real_valid_m = discriminator(real_img)\n",
    "\n",
    "                    if JD:\n",
    "                        distance.append(torch.sum(real_validity) - torch.sum(fake_validity))\n",
    "                    if NEW:\n",
    "                        distance.append(torch.sum(new_metric_real_validity) - torch.sum(new_metric_fake_validity))\n",
    "                    if FMD:\n",
    "                        distance.append(torch.sum(real_valid_m) - torch.sum(fake_valid_m))\n",
    "\n",
    "                    distortion.append(mse_loss(x[:,:,1,:,:], x_hat))\n",
    "                    num_x += len(x)\n",
    "\n",
    "            distance = torch.Tensor(distance).sum() / num_x\n",
    "            distortion = torch.Tensor(distortion).sum() / (64*64*num_x)\n",
    "            MSE_list.append(distortion.item())\n",
    "            PLF_list.append(distance.item())\n",
    "            print(distortion.item(),distance.item())\n",
    "            \n",
    "        MSE[str(bitrate)] = MSE_list\n",
    "        PLF[str(bitrate)] = PLF_list\n",
    "    \n",
    "    return MSE, PLF"
   ]
  },
  {
   "cell_type": "code",
   "execution_count": 495,
   "metadata": {},
   "outputs": [
    {
     "name": "stdout",
     "output_type": "stream",
     "text": [
      "torch.Size([60000, 28, 28])\n"
     ]
    }
   ],
   "source": [
    "train_mnist = datasets.MNIST('./data','train', transform=transforms.ToTensor())\n",
    "test_mnist =  datasets.MNIST('./data','test', transform=transforms.ToTensor())\n",
    "print(train_mnist.data.shape)"
   ]
  },
  {
   "cell_type": "code",
   "execution_count": 491,
   "metadata": {},
   "outputs": [
    {
     "ename": "AttributeError",
     "evalue": "'MNIST' object has no attribute 'shape'",
     "output_type": "error",
     "traceback": [
      "\u001b[0;31m---------------------------------------------------------------------------\u001b[0m",
      "\u001b[0;31mAttributeError\u001b[0m                            Traceback (most recent call last)",
      "\u001b[0;32m<ipython-input-491-d62c4d17fc6a>\u001b[0m in \u001b[0;36m<module>\u001b[0;34m\u001b[0m\n\u001b[0;32m----> 1\u001b[0;31m \u001b[0mtrain_mnist\u001b[0m\u001b[0;34m.\u001b[0m\u001b[0mshape\u001b[0m\u001b[0;34m\u001b[0m\u001b[0;34m\u001b[0m\u001b[0m\n\u001b[0m",
      "\u001b[0;31mAttributeError\u001b[0m: 'MNIST' object has no attribute 'shape'"
     ]
    }
   ],
   "source": [
    "class MoovingMNIST_custom(Dataset):\n",
    "    \"\"\"Mooving mnist dataset\"\"\"\n",
    "\n",
    "    def __init__(self, root_dir, partition, transform=None, num_digits=1, seq_len=3, steps = [15,20])\n",
    "        \"\"\"\n",
    "        Arguments:\n",
    "            root_dir (string): Directory with all the images.\n",
    "            transform (callable, optional): Optional transform to be applied\n",
    "                on a sample.\n",
    "        \"\"\"\n",
    "        self.root_dir = root_dir\n",
    "        self.transform = transform\n",
    "        self.seq_len = seq_len\n",
    "        self.num_digits = num_digits\n",
    "        self.image_size = 64\n",
    "        self.digit_size = 28\n",
    "        self.deterministic = deterministic\n",
    "        self.steps = steps \n",
    "        self.partition = partition\n",
    "        \n",
    "        if 'MMNIST/{partition}'len(os.listdir(self.root_dir+'MMNIST/')) > 0:\n",
    "        #load saved dataset\n",
    "            pass\n",
    "        else:\n",
    "            self.generate_dataset(self) \n",
    "            \n",
    "\n",
    "        \n",
    "    def generate_dataset(self)\n",
    "        mnist = datasets.MNIST('./data',train=self.train, transform=self.transform)\n",
    "        \n",
    "        \n",
    "        \n",
    "        \n",
    "\n",
    "    def __len__(self):\n",
    "        return len(self.data)\n",
    "\n",
    "    def __getitem__(self, idx):\n",
    "        if torch.is_tensor(idx):\n",
    "            idx = idx.tolist()\n",
    "\n",
    "        img_name = os.path.join(self.root_dir,\n",
    "                                self.landmarks_frame.iloc[idx, 0])\n",
    "        image = io.imread(img_name)\n",
    "        landmarks = self.landmarks_frame.iloc[idx, 1:]\n",
    "        landmarks = np.array([landmarks], dtype=float).reshape(-1, 2)\n",
    "        sample = {'image': image, 'landmarks': landmarks}\n",
    "\n",
    "        if self.transform:\n",
    "            sample = self.transform(sample)\n",
    "\n",
    "        return sample"
   ]
  },
  {
   "cell_type": "code",
   "execution_count": null,
   "metadata": {},
   "outputs": [],
   "source": [
    "class FaceLandmarksDataset(Dataset):\n",
    "    \"\"\"Face Landmarks dataset.\"\"\"\n",
    "\n",
    "    def __init__(self, csv_file, root_dir, transform=None, num_digits=1, seq_len=3, ):\n",
    "        \"\"\"\n",
    "        Arguments:\n",
    "            csv_file (string): Path to the csv file with annotations.\n",
    "            root_dir (string): Directory with all the images.\n",
    "            transform (callable, optional): Optional transform to be applied\n",
    "                on a sample.\n",
    "        \"\"\"\n",
    "        self.root_dir = root_dir\n",
    "        self.transform = transform\n",
    "        self.seq_len = seq_len\n",
    "        self.num_digits = num_digits\n",
    "        self.image_size = 64\n",
    "        self.digit_size = 28\n",
    "        self.deterministic = deterministic\n",
    "        self.channels = 1\n",
    "        self.step = step\n",
    "\n",
    "    def __len__(self):\n",
    "        return len(self.landmarks_frame)\n",
    "\n",
    "    def __getitem__(self, idx):\n",
    "        if torch.is_tensor(idx):\n",
    "            idx = idx.tolist()\n",
    "\n",
    "        img_name = os.path.join(self.root_dir,\n",
    "                                self.landmarks_frame.iloc[idx, 0])\n",
    "        image = io.imread(img_name)\n",
    "        landmarks = self.landmarks_frame.iloc[idx, 1:]\n",
    "        landmarks = np.array([landmarks], dtype=float).reshape(-1, 2)\n",
    "        sample = {'image': image, 'landmarks': landmarks}\n",
    "\n",
    "        if self.transform:\n",
    "            sample = self.transform(sample)\n",
    "\n",
    "        return sample"
   ]
  },
  {
   "cell_type": "code",
   "execution_count": null,
   "metadata": {},
   "outputs": [],
   "source": [
    "class MovingMNIST_custom_step(object):\n",
    "\n",
    "    \"\"\"Data Handler that creates Bouncing MNIST dataset on the fly.\"\"\"\n",
    "\n",
    "    def __init__(self, train, data_root, seq_len=20, num_digits=1, image_size=64, step=10, deterministic=False):\n",
    "        path = data_root\n",
    "        self.seq_len = seq_len\n",
    "        self.num_digits = num_digits\n",
    "        self.image_size = image_size\n",
    "        self.step_length = 0.1\n",
    "        self.digit_size = 28 #int(image_size/2)\n",
    "        self.deterministic = deterministic\n",
    "        self.seed_is_set = False # multi threaded loading\n",
    "        self.channels = 1\n",
    "        self.step = step\n",
    "\n",
    "        self.data = datasets.MNIST(\n",
    "            path,\n",
    "            train=train,\n",
    "            download=True,\n",
    "            transform=transforms.Compose(\n",
    "                [transforms.Resize(self.digit_size),\n",
    "                 transforms.ToTensor()]))\n",
    "\n",
    "        self.N = len(self.data)\n",
    "\n",
    "    def set_seed(self, seed):\n",
    "        if not self.seed_is_set:\n",
    "            self.seed_is_set = True\n",
    "            np.random.seed(seed)\n",
    "\n",
    "    def __len__(self):\n",
    "        return self.N\n",
    "\n",
    "    def __getitem__(self, index):\n",
    "        self.set_seed(index)\n",
    "        image_size = self.image_size\n",
    "        digit_size = self.digit_size\n",
    "        x = np.zeros((self.seq_len,\n",
    "                      image_size,\n",
    "                      image_size,\n",
    "                      self.channels),\n",
    "                    dtype=np.float32)\n",
    "        step = self.step\n",
    "        for n in range(self.num_digits):\n",
    "            idx = np.random.randint(self.N)\n",
    "            digit, _ = self.data[idx]\n",
    "\n",
    "            sx = np.random.randint(image_size-digit_size)\n",
    "            sy = np.random.randint(image_size-digit_size)\n",
    "            dx = np.random.randint(-step+1, step)\n",
    "            dy = np.random.randint(-step+1, step)\n",
    "            for t in range(self.seq_len):\n",
    "                dx = np.random.randint(-step+1, step)\n",
    "                dy = np.random.randint(-step+1, step)\n",
    "                if sy < 0:\n",
    "                    sy = 0\n",
    "                    if self.deterministic:\n",
    "                        dy = -dy\n",
    "                    else:\n",
    "                        dy = np.random.randint(1, step)\n",
    "                        dx = np.random.randint(-step+1, step)\n",
    "                elif sy >= image_size-self.digit_size:\n",
    "                    sy = image_size-self.digit_size-1\n",
    "                    if self.deterministic:\n",
    "                        dy = -dy\n",
    "                    else:\n",
    "                        dy = np.random.randint(-step+1, 0)\n",
    "                        dx = np.random.randint(-step+1, step)\n",
    "\n",
    "                if sx < 0:\n",
    "                    sx = 0\n",
    "                    if self.deterministic:\n",
    "                        dx = -dx\n",
    "                    else:\n",
    "                        dx = np.random.randint(1, step)\n",
    "                        dy = np.random.randint(-step+1, step)\n",
    "                elif sx >= image_size-self.digit_size:\n",
    "                    sx = image_size-self.digit_size-1\n",
    "                    if self.deterministic:\n",
    "                        dx = -dx\n",
    "                    else:\n",
    "                        dx = np.random.randint(-step+1, 0)\n",
    "                        dy = np.random.randint(-step+1, step)\n",
    "\n",
    "                x[t, sy:sy+self.digit_size, sx:sx+self.digit_size, 0] += digit.numpy().squeeze()\n",
    "                sy += dy\n",
    "                sx += dx\n",
    "\n",
    "        x[x>1] = 1.\n",
    "        return x"
   ]
  }
 ],
 "metadata": {
  "kernelspec": {
   "display_name": "Python 3",
   "language": "python",
   "name": "python3"
  },
  "language_info": {
   "codemirror_mode": {
    "name": "ipython",
    "version": 3
   },
   "file_extension": ".py",
   "mimetype": "text/x-python",
   "name": "python",
   "nbconvert_exporter": "python",
   "pygments_lexer": "ipython3",
   "version": "3.7.3"
  }
 },
 "nbformat": 4,
 "nbformat_minor": 2
}
